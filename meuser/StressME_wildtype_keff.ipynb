{
 "cells": [
  {
   "cell_type": "markdown",
   "metadata": {},
   "source": [
    "# StressME for wild type strain"
   ]
  },
  {
   "cell_type": "code",
   "execution_count": 1,
   "metadata": {},
   "outputs": [
    {
     "name": "stderr",
     "output_type": "stream",
     "text": [
      "/usr/lib/python3.6/site-packages/cobra-0.5.11-py3.6-linux-x86_64.egg/cobra/solvers/__init__.py:63: UserWarning: No LP solvers found\n",
      "  warn(\"No LP solvers found\")\n",
      "/usr/lib/python3.6/site-packages/cobra-0.5.11-py3.6-linux-x86_64.egg/cobra/io/sbml3.py:24: UserWarning: Install lxml for faster SBML I/O\n",
      "  warn(\"Install lxml for faster SBML I/O\")\n",
      "/usr/lib/python3.6/site-packages/cobra-0.5.11-py3.6-linux-x86_64.egg/cobra/io/__init__.py:12: UserWarning: cobra.io.sbml requires libsbml\n",
      "  warn(\"cobra.io.sbml requires libsbml\")\n"
     ]
    }
   ],
   "source": [
    "import cobrame\n",
    "import ecolime\n",
    "import AcidifyME\n",
    "import pickle\n",
    "from AcidifyME import *\n",
    "from AcidifyME.periplasmic_proteome import *\n",
    "from AcidifyME.membrane_lipid_constraint import *\n",
    "from AcidifyME.membrane_protein_activity import *\n",
    "from AcidifyME.proton_influx import *\n",
    "from oxidizeme.model import *\n",
    "\n",
    "from qminospy.me1 import ME_NLP1\n",
    "from cobrame.io.json import load_json_me_model\n"
   ]
  },
  {
   "cell_type": "markdown",
   "metadata": {},
   "source": [
    "### To load FoldME using wild type keffs from pickle"
   ]
  },
  {
   "cell_type": "code",
   "execution_count": 2,
   "metadata": {},
   "outputs": [],
   "source": [
    "with open(\"FoldME_Ali_keff.pickle\", \"rb\") as f:\n",
    "  me = pickle.load(f)"
   ]
  },
  {
   "cell_type": "markdown",
   "metadata": {},
   "source": [
    "### To set up a key keff for DXPRIi (dxr) using wild type Keff"
   ]
  },
  {
   "cell_type": "code",
   "execution_count": 3,
   "metadata": {},
   "outputs": [],
   "source": [
    "rxn = me.reactions.get_by_id('DXPRIi_FWD_DXPREDISOM-CPLX_mod_cobalt2')\n",
    "rxn.keff=0.01\n",
    "rxn.update()"
   ]
  },
  {
   "cell_type": "markdown",
   "metadata": {},
   "source": [
    "### To define model parameter and stress conditions"
   ]
  },
  {
   "cell_type": "code",
   "execution_count": 4,
   "metadata": {},
   "outputs": [],
   "source": [
    "temperature = 37\n",
    "ROS = 1.0 # fold\n",
    "pH = 7.0"
   ]
  },
  {
   "cell_type": "markdown",
   "metadata": {},
   "source": [
    "### To apply thermal stress"
   ]
  },
  {
   "cell_type": "code",
   "execution_count": 5,
   "metadata": {},
   "outputs": [
    {
     "name": "stderr",
     "output_type": "stream",
     "text": [
      "/source/cobrame/cobrame/core/processdata.py:257 \u001b[1;31mUserWarning\u001b[0m: met (generic_tRNA_GAG_glu__L_c) does not have formula\n",
      "/source/cobrame/cobrame/core/processdata.py:285 \u001b[1;31mUserWarning\u001b[0m: Negative element found in ({'H': -1}), element contributions are usually positive\n",
      "/source/cobrame/cobrame/core/processdata.py:229 \u001b[1;31mUserWarning\u001b[0m: No element contribution input for subreaction (folding_KJE_1), calculating based on stoichiometry instead\n",
      "/source/cobrame/cobrame/core/processdata.py:285 \u001b[1;31mUserWarning\u001b[0m: Negative element found in (defaultdict(<class 'int'>, {'H': 0, 'O': -3, 'P': -1})), element contributions are usually positive\n",
      "/source/cobrame/cobrame/core/processdata.py:229 \u001b[1;31mUserWarning\u001b[0m: No element contribution input for subreaction (folding_KJE_4), calculating based on stoichiometry instead\n",
      "/source/cobrame/cobrame/core/processdata.py:229 \u001b[1;31mUserWarning\u001b[0m: No element contribution input for subreaction (folding_KJE_2), calculating based on stoichiometry instead\n",
      "/source/cobrame/cobrame/core/processdata.py:229 \u001b[1;31mUserWarning\u001b[0m: No element contribution input for subreaction (folding_KJE_3), calculating based on stoichiometry instead\n",
      "/source/cobrame/cobrame/core/processdata.py:229 \u001b[1;31mUserWarning\u001b[0m: No element contribution input for subreaction (folding_KJE_5), calculating based on stoichiometry instead\n",
      "/source/cobrame/cobrame/core/processdata.py:229 \u001b[1;31mUserWarning\u001b[0m: No element contribution input for subreaction (folding_KJE_6), calculating based on stoichiometry instead\n"
     ]
    }
   ],
   "source": [
    "ecolime.chaperones.change_temperature(me, temperature)"
   ]
  },
  {
   "cell_type": "markdown",
   "metadata": {},
   "source": [
    "### To apply acid stress"
   ]
  },
  {
   "cell_type": "code",
   "execution_count": 6,
   "metadata": {
    "scrolled": true
   },
   "outputs": [
    {
     "name": "stdout",
     "output_type": "stream",
     "text": [
      "1.0\n"
     ]
    },
    {
     "name": "stderr",
     "output_type": "stream",
     "text": [
      "/source/cobrame/cobrame/core/reaction.py:858 \u001b[1;31mUserWarning\u001b[0m: RNA Polymerase () not found\n",
      "/source/cobrame/cobrame/core/processdata.py:873 \u001b[1;31mUserWarning\u001b[0m: RNA_b3509 starts with 'AUG' which is not a start codon\n",
      "/source/cobrame/cobrame/core/processdata.py:910 \u001b[1;31mUserWarning\u001b[0m: No termination enzyme for RNA_b3509\n"
     ]
    }
   ],
   "source": [
    "fold_change=5.666666666669649*pH**4-1.396666666667337e+02*pH**3+1.286583333333885e+03*pH**2-5.254083333335287e+03*pH**1+8.037000000002481e+03\n",
    "print(fold_change)\n",
    "\n",
    "#add different constraints into the ME-model to simulate acid stress\n",
    "temperatureK=273.15+temperature\n",
    "\n",
    "add_membrane_constraint(me, 'MJR_habituated')\n",
    "add_protein_stability_constraint(me, pH, temperatureK, constrain_periplasm_biomass=False)\n",
    "add_proton_leak_rxn(me, pH)\n",
    "modify_membrane_protein_activity(me, fold_change)"
   ]
  },
  {
   "cell_type": "markdown",
   "metadata": {},
   "source": [
    "### To set up the model parameter - unmodeled_protein_fraction\n",
    "\n",
    "The modeled_protein_fraction (90%) is close to what has been experimentally quantified for the proteome mass in E.coli (95%), and it has been increased from the previous ME models (e.g. 85% in OxidizeME) considering more proteins were added to the StressME. "
   ]
  },
  {
   "cell_type": "code",
   "execution_count": 7,
   "metadata": {},
   "outputs": [],
   "source": [
    "me.unmodeled_protein_fraction = 0.1"
   ]
  },
  {
   "cell_type": "markdown",
   "metadata": {},
   "source": [
    "### To apply oxidative stress"
   ]
  },
  {
   "cell_type": "code",
   "execution_count": 8,
   "metadata": {},
   "outputs": [],
   "source": [
    "solver = ME_NLP1(me)"
   ]
  },
  {
   "cell_type": "code",
   "execution_count": 9,
   "metadata": {},
   "outputs": [
    {
     "name": "stdout",
     "output_type": "stream",
     "text": [
      "10fthf_c + 1.80324164444648e-7*mu Fmt_mono_mod_mg2_mod_k + 0.00400427350427351*mu FusA_mono + 4.27350427350428e-6*mu InfA_mono + 4.45382843794893e-6*mu InfB_mono + 4.27350427350428e-6*mu InfC_mono + 2.07386100902221e-7*mu Map_mono_mod_2:fe2 + 1.63370183870619e-7*mu PrfB_mono + 4.27350427350428e-6*mu PrfC_mono + 0.000498399634202103*mu + 0.000195123456790123 + 0.00598079561042524*(mu + 0.3915)/mu RNA_b0026 + 2.55589556001079e-8*mu + 1.00063311174422e-8 RNA_degradosome + 2.62130898398881e-7*mu Rrf_mono + 0.00400427350427351*mu Tsf_mono + 92 ala__L_c + 46 arg__L_c + 21 asn__L_c + 71 asp__L_c + 937.0 + 4.21048010973937*(mu + 0.3915)/mu atp_c + 14 cys__L_c + 0.00400427350427351*mu generic_Tuf + 48.0 generic_tRNA_AAA_lys__L_c + 18.0 generic_tRNA_AAC_asn__L_c + 13.0 generic_tRNA_AAG_lys__L_c + 3.0 generic_tRNA_AAU_asn__L_c + 2.0 generic_tRNA_ACA_thr__L_c + 32.0 generic_tRNA_ACC_thr__L_c + 6.0 generic_tRNA_ACG_thr__L_c + 7.0 generic_tRNA_ACU_thr__L_c + 9.0 generic_tRNA_AGC_ser__L_c + 4.0 generic_tRNA_AGU_ser__L_c + 36.0 generic_tRNA_AUC_ile__L_c + 23.0 generic_tRNA_AUG_met__L_c + 10.0 generic_tRNA_AUU_ile__L_c + 4.0 generic_tRNA_CAA_gln__L_c + 21.0 generic_tRNA_CAC_his__L_c + 27.0 generic_tRNA_CAG_gln__L_c + 4.0 generic_tRNA_CAU_his__L_c + 6.0 generic_tRNA_CCA_pro__L_c + generic_tRNA_CCC_pro__L_c + 28.0 generic_tRNA_CCG_pro__L_c + 7.0 generic_tRNA_CCU_pro__L_c + generic_tRNA_CGA_arg__L_c + 18.0 generic_tRNA_CGC_arg__L_c + 27.0 generic_tRNA_CGU_arg__L_c + 2.0 generic_tRNA_CUA_leu__L_c + 9.0 generic_tRNA_CUC_leu__L_c + 56.0 generic_tRNA_CUG_leu__L_c + 3.0 generic_tRNA_CUU_leu__L_c + 39.0 generic_tRNA_GAA_glu__L_c + 39.0 generic_tRNA_GAC_asp__L_c + 19.0 generic_tRNA_GAG_glu__L_c + 32.0 generic_tRNA_GAU_asp__L_c + 21.0 generic_tRNA_GCA_ala__L_c + 19.0 generic_tRNA_GCC_ala__L_c + 42.0 generic_tRNA_GCG_ala__L_c + 10.0 generic_tRNA_GCU_ala__L_c + 2.0 generic_tRNA_GGA_gly_c + 43.0 generic_tRNA_GGC_gly_c + 3.0 generic_tRNA_GGG_gly_c + 27.0 generic_tRNA_GGU_gly_c + 12.0 generic_tRNA_GUA_val__L_c + 13.0 generic_tRNA_GUC_val__L_c + 27.0 generic_tRNA_GUG_val__L_c + 22.0 generic_tRNA_GUU_val__L_c + generic_tRNA_START_met__L_c + 17.0 generic_tRNA_UAC_tyr__L_c + 16.0 generic_tRNA_UAU_tyr__L_c + 4.0 generic_tRNA_UCA_ser__L_c + 12.0 generic_tRNA_UCC_ser__L_c + 8.0 generic_tRNA_UCG_ser__L_c + 10.0 generic_tRNA_UCU_ser__L_c + 11.0 generic_tRNA_UGC_cys__L_c + 23.0 generic_tRNA_UGG_trp__L_c + 3.0 generic_tRNA_UGU_cys__L_c + generic_tRNA_UUA_leu__L_c + 20.0 generic_tRNA_UUC_phe__L_c + 6.0 generic_tRNA_UUG_leu__L_c + 11.0 generic_tRNA_UUU_phe__L_c + 31 gln__L_c + 58 glu__L_c + 75 gly_c + 1876.0 gtp_c + 1878.0 + 4.21048010973937*(mu + 0.3915)/mu h2o_c + 25 his__L_c + 46 ile__L_c + 77 leu__L_c + 61 lys__L_c + 5.39227220717438*(mu + 0.3915)/mu mRNA_biomass + 23.0 met__L_c + 31 phe__L_c + 42 pro__L_c + 0.0134477510132293*mu + 0.00526479452167928 ribosome + 47 ser__L_c + 47 thr__L_c + 23 trp__L_c + 33 tyr__L_c + 74 val__L_c --> 4.21048010973937*(mu + 0.3915)/mu adp_c + 937.0 + 3.53465020576132*(mu + 0.3915)/mu amp_c + 4.9281755829904*(mu + 0.3915)/mu cmp_c + for_c + 1876.0 gdp_c + 4.46765432098766*(mu + 0.3915)/mu gmp_c + 2814.0 + 4.21048010973937*(mu + 0.3915)/mu h_c + 1876.0 + 4.21048010973937*(mu + 0.3915)/mu pi_c + 937.0 ppi_c + protein_b0026 + 104.14225236 protein_biomass + thf_c + 3.91742112482853*(mu + 0.3915)/mu ump_c\n",
      "('mod_mn2_c', 'already in model.')\n",
      "('mod_zn2_c', 'already in model.')\n",
      "('mod_cobalt2_c', 'already in model.')\n",
      "Done adding dilution fluxes.\n",
      "//****************************************************\n",
      "(2, 'metals')\n",
      "(22, 'additional mismetallated enzymes')\n",
      "//****************************************************\n"
     ]
    }
   ],
   "source": [
    "stress = StressME(solver)\n",
    "stress.make_stressme()"
   ]
  },
  {
   "cell_type": "code",
   "execution_count": 10,
   "metadata": {},
   "outputs": [],
   "source": [
    "subs_dict = {\n",
    " 'h2o2_c': 5e-08, 'o2s_c': 2e-10,\n",
    " #'h2o2_e': 1.5e-06, 'o2s_e': 0,\n",
    " #'pq2_c': 0.0\n",
    "}\n",
    "\n",
    "subs_dict['h2o2_c'] = 5e-08*ROS\n",
    "subs_dict['o2s_c'] = 2e-10*ROS\n",
    "\n",
    "stress.substitute_ros(solver, subs_dict)\n",
    "stress.substitute_metal(solver)"
   ]
  },
  {
   "cell_type": "code",
   "execution_count": 11,
   "metadata": {
    "tags": []
   },
   "outputs": [
    {
     "name": "stdout",
     "output_type": "stream",
     "text": [
      "SPODM_FWD_SUPEROX-DISMUTMN-CPLX_mod_mn2 \t 0\n",
      "SPODM_FWD_SUPEROX-DISMUTMN-CPLX_mod_mn2 \t 1000\n",
      "SPODM_FWD_SUPEROX-DISMUTFE-CPLX_mod_fe3 \t 0\n",
      "SPODM_FWD_SUPEROX-DISMUTFE-CPLX_mod_fe3 \t 1000\n",
      "SPODMpp_FWD_G6886-MONOMER_mod_cu2 \t 0\n",
      "SPODMpp_FWD_G6886-MONOMER_mod_cu2 \t 1000\n",
      "CAT_FWD_HYDROPEROXIDI-CPLX_mod_pheme \t 0\n",
      "CAT_FWD_HYDROPEROXIDI-CPLX_mod_pheme \t 1000\n",
      "CAT_FWD_HYDROPEROXIDII-CPLX_mod_6:hemed \t 0\n",
      "CAT_FWD_HYDROPEROXIDII-CPLX_mod_6:hemed \t 1000\n"
     ]
    }
   ],
   "source": [
    "#### Unlock ROS detox enzymes, as they might be blocked (UB=0) for some reason by default\n",
    "for r in me.process_data.SPODM.parent_reactions:\n",
    "    print(r.id, '\\t', r.upper_bound)\n",
    "    r.upper_bound = 1000\n",
    "    print(r.id, '\\t', r.upper_bound)\n",
    "    \n",
    "for r in me.process_data.SPODMpp.parent_reactions:\n",
    "    print(r.id, '\\t', r.upper_bound)\n",
    "    r.upper_bound = 1000\n",
    "    print(r.id, '\\t', r.upper_bound)\n",
    "    \n",
    "for r in me.process_data.CAT.parent_reactions:\n",
    "    print(r.id, '\\t', r.upper_bound)\n",
    "    r.upper_bound = 1000\n",
    "    print(r.id, '\\t', r.upper_bound)\n",
    "    \n",
    "me.reactions.MOX_REV_CPLX_dummy.upper_bound = 0"
   ]
  },
  {
   "cell_type": "code",
   "execution_count": 12,
   "metadata": {},
   "outputs": [
    {
     "name": "stdout",
     "output_type": "stream",
     "text": [
      "PQ2RED_FWD_FLAVONADPREDUCT-MONOMER_mod_fad \t 0.26606684\n"
     ]
    }
   ],
   "source": [
    "stress.force_o2s_from_pq()\n",
    "\n",
    "for r in me.reactions.query('PQ2RED'):\n",
    "    print(r.id, '\\t', r.lower_bound)"
   ]
  },
  {
   "cell_type": "markdown",
   "metadata": {},
   "source": [
    "### To run simualtions from Warm Start\n",
    "\n",
    "Warm start file is basis.npy, which was saved from previous successful simulation. The warm start can signifiantly reduce the simulation time"
   ]
  },
  {
   "cell_type": "code",
   "execution_count": 13,
   "metadata": {
    "jupyter": {
     "outputs_hidden": true
    },
    "tags": []
   },
   "outputs": [
    {
     "name": "stdout",
     "output_type": "stream",
     "text": [
      "iter\tmuopt    \ta     \tb     \tmu1       \tstat1\n",
      "Finished compiling expressions in 243.022633 seconds\n",
      "Finished substituting S,lb,ub in 17.248796 seconds\n",
      "Finished makeME_LP in 2.799279 seconds\n",
      "Getting MINOS parameters from ME_NLP...\n",
      "1 0.0 0.0 1.0 1.0 1\n",
      "Finished substituting S,lb,ub in 16.995225 seconds\n",
      "Finished makeME_LP in 2.776424 seconds\n",
      "Getting MINOS parameters from ME_NLP...\n",
      "2 0.5 0.5 1.0 0.5 optimal\n",
      "Finished substituting S,lb,ub in 16.904197 seconds\n",
      "Finished makeME_LP in 2.786389 seconds\n",
      "Getting MINOS parameters from ME_NLP...\n",
      "3 0.75 0.75 1.0 0.75 optimal\n",
      "Finished substituting S,lb,ub in 17.008558 seconds\n",
      "Finished makeME_LP in 2.814254 seconds\n",
      "Getting MINOS parameters from ME_NLP...\n",
      "4 0.875 0.875 1.0 0.875 optimal\n",
      "Finished substituting S,lb,ub in 16.953759 seconds\n",
      "Finished makeME_LP in 2.787928 seconds\n",
      "Getting MINOS parameters from ME_NLP...\n",
      "5 0.875 0.875 0.9375 0.9375 1\n",
      "Finished substituting S,lb,ub in 16.859204 seconds\n",
      "Finished makeME_LP in 2.752906 seconds\n",
      "Getting MINOS parameters from ME_NLP...\n",
      "6 0.875 0.875 0.90625 0.90625 1\n",
      "Finished substituting S,lb,ub in 16.864111 seconds\n",
      "Finished makeME_LP in 2.776791 seconds\n",
      "Getting MINOS parameters from ME_NLP...\n",
      "7 0.875 0.875 0.890625 0.890625 1\n",
      "Finished substituting S,lb,ub in 16.915409 seconds\n",
      "Finished makeME_LP in 2.797490 seconds\n",
      "Getting MINOS parameters from ME_NLP...\n",
      "8 0.875 0.875 0.8828125 0.8828125 1\n",
      "Finished substituting S,lb,ub in 16.896490 seconds\n",
      "Finished makeME_LP in 2.768418 seconds\n",
      "Getting MINOS parameters from ME_NLP...\n",
      "9 0.87890625 0.87890625 0.8828125 0.87890625 optimal\n",
      "Finished substituting S,lb,ub in 16.912924 seconds\n",
      "Finished makeME_LP in 2.783463 seconds\n",
      "Getting MINOS parameters from ME_NLP...\n",
      "10 0.880859375 0.880859375 0.8828125 0.880859375 optimal\n",
      "Finished substituting S,lb,ub in 16.792822 seconds\n",
      "Finished makeME_LP in 2.830140 seconds\n",
      "Getting MINOS parameters from ME_NLP...\n",
      "11 0.880859375 0.880859375 0.8818359375 0.8818359375 1\n",
      "Finished substituting S,lb,ub in 16.855567 seconds\n",
      "Finished makeME_LP in 2.778566 seconds\n",
      "Getting MINOS parameters from ME_NLP...\n",
      "12 0.880859375 0.880859375 0.88134765625 0.88134765625 1\n",
      "Finished substituting S,lb,ub in 16.870597 seconds\n",
      "Finished makeME_LP in 2.778969 seconds\n",
      "Getting MINOS parameters from ME_NLP...\n",
      "13 0.880859375 0.880859375 0.881103515625 0.881103515625 1\n",
      "Finished substituting S,lb,ub in 16.808976 seconds\n",
      "Finished makeME_LP in 2.738204 seconds\n",
      "Getting MINOS parameters from ME_NLP...\n",
      "14 0.880859375 0.880859375 0.8809814453125 0.8809814453125 1\n",
      "Finished substituting S,lb,ub in 16.916801 seconds\n",
      "Finished makeME_LP in 2.788505 seconds\n",
      "Getting MINOS parameters from ME_NLP...\n",
      "15 0.880859375 0.880859375 0.88092041015625 0.88092041015625 1\n",
      "Bisection done in 759.788 seconds\n"
     ]
    }
   ],
   "source": [
    "saved_basis = np.load('basis.npy')\n",
    "MU_PREC = 1e-04\n",
    "sol, hs, xopt, cache  = solver.bisectmu(precision=MU_PREC, basis = saved_basis)    "
   ]
  },
  {
   "cell_type": "markdown",
   "metadata": {},
   "source": [
    "### Results and save as sol.pickle"
   ]
  },
  {
   "cell_type": "code",
   "execution_count": 14,
   "metadata": {},
   "outputs": [
    {
     "name": "stdout",
     "output_type": "stream",
     "text": [
      "optimal\n",
      "0.880859375\n"
     ]
    }
   ],
   "source": [
    "# solution status\n",
    "print(me.solution.status)\n",
    "# growth rate\n",
    "print(me.reactions.biomass_dilution.x)\n",
    "# to save solution to pickle\n",
    "# write solution file \n",
    "filename = 'StressME_wildtype'+'_T_'+str(temperature)+'_pH_'+str(pH)+'_ROS_'+str(ROS)+'X'\n",
    "with open(filename+'_sol.pickle','wb') as f:\n",
    "    pickle.dump(me.solution,f)"
   ]
  },
  {
   "cell_type": "code",
   "execution_count": null,
   "metadata": {},
   "outputs": [],
   "source": []
  }
 ],
 "metadata": {
  "kernelspec": {
   "display_name": "Python 3",
   "language": "python",
   "name": "python3"
  },
  "language_info": {
   "codemirror_mode": {
    "name": "ipython",
    "version": 3
   },
   "file_extension": ".py",
   "mimetype": "text/x-python",
   "name": "python",
   "nbconvert_exporter": "python",
   "pygments_lexer": "ipython3",
   "version": "3.6.1"
  }
 },
 "nbformat": 4,
 "nbformat_minor": 5
}
