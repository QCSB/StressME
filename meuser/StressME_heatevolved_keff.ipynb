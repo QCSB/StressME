{
 "cells": [
  {
   "cell_type": "markdown",
   "id": "97fa6576",
   "metadata": {},
   "source": [
    "# StressME for heat_evolved strain"
   ]
  },
  {
   "cell_type": "code",
   "execution_count": 1,
   "id": "b757e0df",
   "metadata": {},
   "outputs": [
    {
     "name": "stderr",
     "output_type": "stream",
     "text": [
      "/usr/lib/python3.6/site-packages/cobra-0.5.11-py3.6-linux-x86_64.egg/cobra/solvers/__init__.py:63: UserWarning: No LP solvers found\n",
      "  warn(\"No LP solvers found\")\n",
      "/usr/lib/python3.6/site-packages/cobra-0.5.11-py3.6-linux-x86_64.egg/cobra/io/sbml3.py:24: UserWarning: Install lxml for faster SBML I/O\n",
      "  warn(\"Install lxml for faster SBML I/O\")\n",
      "/usr/lib/python3.6/site-packages/cobra-0.5.11-py3.6-linux-x86_64.egg/cobra/io/__init__.py:12: UserWarning: cobra.io.sbml requires libsbml\n",
      "  warn(\"cobra.io.sbml requires libsbml\")\n"
     ]
    }
   ],
   "source": [
    "import cobrame\n",
    "import ecolime\n",
    "import AcidifyME\n",
    "import pickle\n",
    "from AcidifyME import *\n",
    "from AcidifyME.periplasmic_proteome import *\n",
    "from AcidifyME.membrane_lipid_constraint import *\n",
    "from AcidifyME.membrane_protein_activity import *\n",
    "from AcidifyME.proton_influx import *\n",
    "from oxidizeme.model import *\n",
    "\n",
    "from qminospy.me1 import ME_NLP1\n",
    "from cobrame.io.json import load_json_me_model\n"
   ]
  },
  {
   "cell_type": "markdown",
   "id": "ff50d48b",
   "metadata": {},
   "source": [
    "### To load FoldME using wild type keffs from pickle"
   ]
  },
  {
   "cell_type": "code",
   "execution_count": 2,
   "id": "1a250b6d",
   "metadata": {},
   "outputs": [],
   "source": [
    "with open(\"FoldME_Ali_keff.pickle\", \"rb\") as f:\n",
    "  me = pickle.load(f)"
   ]
  },
  {
   "cell_type": "markdown",
   "id": "ff263ee7",
   "metadata": {},
   "source": [
    "### To change a Keff for DXPRIi(dxr) using FoldME keff so that the strain can be heat-evolved\n",
    "\n",
    "Supporting document:\n",
    "\n",
    "Characterization of 1-Deoxy-d-xylulose 5-Phosphate Reductoisomerase, an Enzyme Involved in Isopentenyl Diphosphate Biosynthesis, and Identification of Its Catalytic Amino Acid Residues* (https://www.jbc.org/article/S0021-9258(19)80070-4/fulltext)\n",
    "\n",
    "“The maximum activity was observed at 40–60 °C, and 70% of the maximum activity was obtained even at 80 °C.”\n",
    "“The purified enzyme was not heat stable above 50 °C.”"
   ]
  },
  {
   "cell_type": "code",
   "execution_count": 3,
   "id": "e492487d",
   "metadata": {},
   "outputs": [],
   "source": [
    "rxn = me.reactions.get_by_id('DXPRIi_FWD_DXPREDISOM-CPLX_mod_cobalt2')\n",
    "rxn.keff=88.72\n",
    "rxn.update()"
   ]
  },
  {
   "cell_type": "markdown",
   "id": "d2b62109",
   "metadata": {},
   "source": [
    "### To define model parameter and stress conditions"
   ]
  },
  {
   "cell_type": "code",
   "execution_count": 4,
   "id": "e67ed854",
   "metadata": {},
   "outputs": [],
   "source": [
    "temperature = 37\n",
    "ROS = 1.0 # fold\n",
    "pH = 7.0"
   ]
  },
  {
   "cell_type": "markdown",
   "id": "d0f2dc50",
   "metadata": {},
   "source": [
    "### To apply thermal stress"
   ]
  },
  {
   "cell_type": "code",
   "execution_count": 5,
   "id": "65838baf",
   "metadata": {},
   "outputs": [
    {
     "name": "stderr",
     "output_type": "stream",
     "text": [
      "/source/cobrame/cobrame/core/processdata.py:257 \u001b[1;31mUserWarning\u001b[0m: met (generic_tRNA_GAG_glu__L_c) does not have formula\n",
      "/source/cobrame/cobrame/core/processdata.py:285 \u001b[1;31mUserWarning\u001b[0m: Negative element found in ({'H': -1}), element contributions are usually positive\n",
      "/source/cobrame/cobrame/core/processdata.py:229 \u001b[1;31mUserWarning\u001b[0m: No element contribution input for subreaction (folding_KJE_1), calculating based on stoichiometry instead\n",
      "/source/cobrame/cobrame/core/processdata.py:285 \u001b[1;31mUserWarning\u001b[0m: Negative element found in (defaultdict(<class 'int'>, {'H': 0, 'O': -3, 'P': -1})), element contributions are usually positive\n",
      "/source/cobrame/cobrame/core/processdata.py:229 \u001b[1;31mUserWarning\u001b[0m: No element contribution input for subreaction (folding_KJE_4), calculating based on stoichiometry instead\n",
      "/source/cobrame/cobrame/core/processdata.py:229 \u001b[1;31mUserWarning\u001b[0m: No element contribution input for subreaction (folding_KJE_2), calculating based on stoichiometry instead\n",
      "/source/cobrame/cobrame/core/processdata.py:229 \u001b[1;31mUserWarning\u001b[0m: No element contribution input for subreaction (folding_KJE_3), calculating based on stoichiometry instead\n",
      "/source/cobrame/cobrame/core/processdata.py:229 \u001b[1;31mUserWarning\u001b[0m: No element contribution input for subreaction (folding_KJE_5), calculating based on stoichiometry instead\n",
      "/source/cobrame/cobrame/core/processdata.py:229 \u001b[1;31mUserWarning\u001b[0m: No element contribution input for subreaction (folding_KJE_6), calculating based on stoichiometry instead\n"
     ]
    }
   ],
   "source": [
    "ecolime.chaperones.change_temperature(me, temperature)"
   ]
  },
  {
   "cell_type": "markdown",
   "id": "4b32f2d6",
   "metadata": {},
   "source": [
    "### To apply acid stress"
   ]
  },
  {
   "cell_type": "code",
   "execution_count": 6,
   "id": "73051e3d",
   "metadata": {
    "scrolled": true
   },
   "outputs": [
    {
     "name": "stdout",
     "output_type": "stream",
     "text": [
      "1.0\n"
     ]
    },
    {
     "name": "stderr",
     "output_type": "stream",
     "text": [
      "/source/cobrame/cobrame/core/reaction.py:858 \u001b[1;31mUserWarning\u001b[0m: RNA Polymerase () not found\n",
      "/source/cobrame/cobrame/core/processdata.py:873 \u001b[1;31mUserWarning\u001b[0m: RNA_b3509 starts with 'AUG' which is not a start codon\n",
      "/source/cobrame/cobrame/core/processdata.py:910 \u001b[1;31mUserWarning\u001b[0m: No termination enzyme for RNA_b3509\n"
     ]
    }
   ],
   "source": [
    "fold_change=5.666666666669649*pH**4-1.396666666667337e+02*pH**3+1.286583333333885e+03*pH**2-5.254083333335287e+03*pH**1+8.037000000002481e+03\n",
    "print(fold_change)\n",
    "\n",
    "#add different constraints into the ME-model to simulate acid stress\n",
    "temperatureK=273.15+temperature\n",
    "\n",
    "add_membrane_constraint(me, 'MJR_habituated')\n",
    "add_protein_stability_constraint(me, pH, temperatureK, constrain_periplasm_biomass=False)\n",
    "add_proton_leak_rxn(me, pH)\n",
    "modify_membrane_protein_activity(me, fold_change)"
   ]
  },
  {
   "cell_type": "markdown",
   "id": "9b808e07",
   "metadata": {},
   "source": [
    "### To set up the model parameter - unmodeled_protein_fraction\n",
    "\n",
    "The modeled_protein_fraction (90%) is close to what has been experimentally quantified for the proteome mass in E.coli (95%), and it has been increased from the previous ME models (e.g. 85% in OxidizeME) considering more proteins were added to the StressME. "
   ]
  },
  {
   "cell_type": "code",
   "execution_count": 7,
   "id": "38b69bd5",
   "metadata": {},
   "outputs": [],
   "source": [
    "me.unmodeled_protein_fraction = 0.1"
   ]
  },
  {
   "cell_type": "markdown",
   "id": "951aed2e",
   "metadata": {},
   "source": [
    "### To apply oxidative stress"
   ]
  },
  {
   "cell_type": "code",
   "execution_count": 8,
   "id": "a6739507",
   "metadata": {},
   "outputs": [],
   "source": [
    "solver = ME_NLP1(me)"
   ]
  },
  {
   "cell_type": "code",
   "execution_count": 9,
   "id": "837fe18c",
   "metadata": {},
   "outputs": [
    {
     "name": "stdout",
     "output_type": "stream",
     "text": [
      "10fthf_c + 1.80324164444648e-7*mu Fmt_mono_mod_mg2_mod_k + 0.00400427350427351*mu FusA_mono + 4.27350427350428e-6*mu InfA_mono + 4.45382843794893e-6*mu InfB_mono + 4.27350427350428e-6*mu InfC_mono + 2.07386100902221e-7*mu Map_mono_mod_2:fe2 + 1.63370183870619e-7*mu PrfB_mono + 4.27350427350428e-6*mu PrfC_mono + 0.000498399634202103*mu + 0.000195123456790123 + 0.00598079561042524*(mu + 0.3915)/mu RNA_b0026 + 2.55589556001079e-8*mu + 1.00063311174422e-8 RNA_degradosome + 2.62130898398881e-7*mu Rrf_mono + 0.00400427350427351*mu Tsf_mono + 92 ala__L_c + 46 arg__L_c + 21 asn__L_c + 71 asp__L_c + 937.0 + 4.21048010973937*(mu + 0.3915)/mu atp_c + 14 cys__L_c + 0.00400427350427351*mu generic_Tuf + 48.0 generic_tRNA_AAA_lys__L_c + 18.0 generic_tRNA_AAC_asn__L_c + 13.0 generic_tRNA_AAG_lys__L_c + 3.0 generic_tRNA_AAU_asn__L_c + 2.0 generic_tRNA_ACA_thr__L_c + 32.0 generic_tRNA_ACC_thr__L_c + 6.0 generic_tRNA_ACG_thr__L_c + 7.0 generic_tRNA_ACU_thr__L_c + 9.0 generic_tRNA_AGC_ser__L_c + 4.0 generic_tRNA_AGU_ser__L_c + 36.0 generic_tRNA_AUC_ile__L_c + 23.0 generic_tRNA_AUG_met__L_c + 10.0 generic_tRNA_AUU_ile__L_c + 4.0 generic_tRNA_CAA_gln__L_c + 21.0 generic_tRNA_CAC_his__L_c + 27.0 generic_tRNA_CAG_gln__L_c + 4.0 generic_tRNA_CAU_his__L_c + 6.0 generic_tRNA_CCA_pro__L_c + generic_tRNA_CCC_pro__L_c + 28.0 generic_tRNA_CCG_pro__L_c + 7.0 generic_tRNA_CCU_pro__L_c + generic_tRNA_CGA_arg__L_c + 18.0 generic_tRNA_CGC_arg__L_c + 27.0 generic_tRNA_CGU_arg__L_c + 2.0 generic_tRNA_CUA_leu__L_c + 9.0 generic_tRNA_CUC_leu__L_c + 56.0 generic_tRNA_CUG_leu__L_c + 3.0 generic_tRNA_CUU_leu__L_c + 39.0 generic_tRNA_GAA_glu__L_c + 39.0 generic_tRNA_GAC_asp__L_c + 19.0 generic_tRNA_GAG_glu__L_c + 32.0 generic_tRNA_GAU_asp__L_c + 21.0 generic_tRNA_GCA_ala__L_c + 19.0 generic_tRNA_GCC_ala__L_c + 42.0 generic_tRNA_GCG_ala__L_c + 10.0 generic_tRNA_GCU_ala__L_c + 2.0 generic_tRNA_GGA_gly_c + 43.0 generic_tRNA_GGC_gly_c + 3.0 generic_tRNA_GGG_gly_c + 27.0 generic_tRNA_GGU_gly_c + 12.0 generic_tRNA_GUA_val__L_c + 13.0 generic_tRNA_GUC_val__L_c + 27.0 generic_tRNA_GUG_val__L_c + 22.0 generic_tRNA_GUU_val__L_c + generic_tRNA_START_met__L_c + 17.0 generic_tRNA_UAC_tyr__L_c + 16.0 generic_tRNA_UAU_tyr__L_c + 4.0 generic_tRNA_UCA_ser__L_c + 12.0 generic_tRNA_UCC_ser__L_c + 8.0 generic_tRNA_UCG_ser__L_c + 10.0 generic_tRNA_UCU_ser__L_c + 11.0 generic_tRNA_UGC_cys__L_c + 23.0 generic_tRNA_UGG_trp__L_c + 3.0 generic_tRNA_UGU_cys__L_c + generic_tRNA_UUA_leu__L_c + 20.0 generic_tRNA_UUC_phe__L_c + 6.0 generic_tRNA_UUG_leu__L_c + 11.0 generic_tRNA_UUU_phe__L_c + 31 gln__L_c + 58 glu__L_c + 75 gly_c + 1876.0 gtp_c + 1878.0 + 4.21048010973937*(mu + 0.3915)/mu h2o_c + 25 his__L_c + 46 ile__L_c + 77 leu__L_c + 61 lys__L_c + 5.39227220717438*(mu + 0.3915)/mu mRNA_biomass + 23.0 met__L_c + 31 phe__L_c + 42 pro__L_c + 0.0134477510132293*mu + 0.00526479452167928 ribosome + 47 ser__L_c + 47 thr__L_c + 23 trp__L_c + 33 tyr__L_c + 74 val__L_c --> 4.21048010973937*(mu + 0.3915)/mu adp_c + 937.0 + 3.53465020576132*(mu + 0.3915)/mu amp_c + 4.9281755829904*(mu + 0.3915)/mu cmp_c + for_c + 1876.0 gdp_c + 4.46765432098766*(mu + 0.3915)/mu gmp_c + 2814.0 + 4.21048010973937*(mu + 0.3915)/mu h_c + 1876.0 + 4.21048010973937*(mu + 0.3915)/mu pi_c + 937.0 ppi_c + protein_b0026 + 104.14225236 protein_biomass + thf_c + 3.91742112482853*(mu + 0.3915)/mu ump_c\n",
      "('mod_mn2_c', 'already in model.')\n",
      "('mod_zn2_c', 'already in model.')\n",
      "('mod_cobalt2_c', 'already in model.')\n",
      "Done adding dilution fluxes.\n",
      "//****************************************************\n",
      "(2, 'metals')\n",
      "(22, 'additional mismetallated enzymes')\n",
      "//****************************************************\n"
     ]
    }
   ],
   "source": [
    "stress = StressME(solver)\n",
    "stress.make_stressme()"
   ]
  },
  {
   "cell_type": "code",
   "execution_count": 10,
   "id": "e4c829ec",
   "metadata": {},
   "outputs": [],
   "source": [
    "subs_dict = {\n",
    " 'h2o2_c': 5e-08, 'o2s_c': 2e-10,\n",
    " #'h2o2_e': 1.5e-06, 'o2s_e': 0,\n",
    " #'pq2_c': 0.0\n",
    "}\n",
    "\n",
    "subs_dict['h2o2_c'] = 5e-08*ROS\n",
    "subs_dict['o2s_c'] = 2e-10*ROS\n",
    "\n",
    "stress.substitute_ros(solver, subs_dict)\n",
    "stress.substitute_metal(solver)"
   ]
  },
  {
   "cell_type": "code",
   "execution_count": 11,
   "id": "c6b2aabc",
   "metadata": {
    "tags": []
   },
   "outputs": [
    {
     "name": "stdout",
     "output_type": "stream",
     "text": [
      "SPODM_FWD_SUPEROX-DISMUTMN-CPLX_mod_mn2 \t 0\n",
      "SPODM_FWD_SUPEROX-DISMUTMN-CPLX_mod_mn2 \t 1000\n",
      "SPODM_FWD_SUPEROX-DISMUTFE-CPLX_mod_fe3 \t 0\n",
      "SPODM_FWD_SUPEROX-DISMUTFE-CPLX_mod_fe3 \t 1000\n",
      "SPODMpp_FWD_G6886-MONOMER_mod_cu2 \t 0\n",
      "SPODMpp_FWD_G6886-MONOMER_mod_cu2 \t 1000\n",
      "CAT_FWD_HYDROPEROXIDI-CPLX_mod_pheme \t 0\n",
      "CAT_FWD_HYDROPEROXIDI-CPLX_mod_pheme \t 1000\n",
      "CAT_FWD_HYDROPEROXIDII-CPLX_mod_6:hemed \t 0\n",
      "CAT_FWD_HYDROPEROXIDII-CPLX_mod_6:hemed \t 1000\n"
     ]
    }
   ],
   "source": [
    "#### Unlock ROS detox enzymes, as they might be blocked (UB=0) for some reason by default\n",
    "for r in me.process_data.SPODM.parent_reactions:\n",
    "    print(r.id, '\\t', r.upper_bound)\n",
    "    r.upper_bound = 1000\n",
    "    print(r.id, '\\t', r.upper_bound)\n",
    "    \n",
    "for r in me.process_data.SPODMpp.parent_reactions:\n",
    "    print(r.id, '\\t', r.upper_bound)\n",
    "    r.upper_bound = 1000\n",
    "    print(r.id, '\\t', r.upper_bound)\n",
    "    \n",
    "for r in me.process_data.CAT.parent_reactions:\n",
    "    print(r.id, '\\t', r.upper_bound)\n",
    "    r.upper_bound = 1000\n",
    "    print(r.id, '\\t', r.upper_bound)\n",
    "    \n",
    "me.reactions.MOX_REV_CPLX_dummy.upper_bound = 0"
   ]
  },
  {
   "cell_type": "code",
   "execution_count": 12,
   "id": "adf29809",
   "metadata": {},
   "outputs": [
    {
     "name": "stdout",
     "output_type": "stream",
     "text": [
      "PQ2RED_FWD_FLAVONADPREDUCT-MONOMER_mod_fad \t 0.26606684\n"
     ]
    }
   ],
   "source": [
    "stress.force_o2s_from_pq()\n",
    "\n",
    "for r in me.reactions.query('PQ2RED'):\n",
    "    print(r.id, '\\t', r.lower_bound)"
   ]
  },
  {
   "cell_type": "markdown",
   "id": "46026c0c",
   "metadata": {},
   "source": [
    "### To run simualtions from Warm Start\n",
    "\n",
    "Warm start file is basis.npy, which was saved from previous successful simulation. The warm start can signifiantly reduce the simulation time"
   ]
  },
  {
   "cell_type": "code",
   "execution_count": 13,
   "id": "88488906",
   "metadata": {
    "jupyter": {
     "outputs_hidden": true
    },
    "tags": []
   },
   "outputs": [
    {
     "name": "stdout",
     "output_type": "stream",
     "text": [
      "iter\tmuopt    \ta     \tb     \tmu1       \tstat1\n",
      "Finished compiling expressions in 244.258295 seconds\n",
      "Finished substituting S,lb,ub in 17.103582 seconds\n",
      "Finished makeME_LP in 2.772035 seconds\n",
      "Getting MINOS parameters from ME_NLP...\n",
      "1 1.0 1.0 2.0 1.0 optimal\n",
      "Finished substituting S,lb,ub in 16.731938 seconds\n",
      "Finished makeME_LP in 2.776474 seconds\n",
      "Getting MINOS parameters from ME_NLP...\n",
      "2 1.0 1.0 1.5 1.5 1\n",
      "Finished substituting S,lb,ub in 16.777529 seconds\n",
      "Finished makeME_LP in 2.777131 seconds\n",
      "Getting MINOS parameters from ME_NLP...\n",
      "3 1.0 1.0 1.25 1.25 1\n",
      "Finished substituting S,lb,ub in 16.800883 seconds\n",
      "Finished makeME_LP in 2.772342 seconds\n",
      "Getting MINOS parameters from ME_NLP...\n",
      "4 1.0 1.0 1.125 1.125 1\n",
      "Finished substituting S,lb,ub in 16.759459 seconds\n",
      "Finished makeME_LP in 2.766798 seconds\n",
      "Getting MINOS parameters from ME_NLP...\n",
      "5 1.0 1.0 1.0625 1.0625 1\n",
      "Finished substituting S,lb,ub in 16.876287 seconds\n",
      "Finished makeME_LP in 2.783848 seconds\n",
      "Getting MINOS parameters from ME_NLP...\n",
      "6 1.03125 1.03125 1.0625 1.03125 optimal\n",
      "Finished substituting S,lb,ub in 16.909124 seconds\n",
      "Finished makeME_LP in 2.781984 seconds\n",
      "Getting MINOS parameters from ME_NLP...\n",
      "7 1.03125 1.03125 1.046875 1.046875 1\n",
      "Finished substituting S,lb,ub in 16.727801 seconds\n",
      "Finished makeME_LP in 2.774709 seconds\n",
      "Getting MINOS parameters from ME_NLP...\n",
      "8 1.0390625 1.0390625 1.046875 1.0390625 optimal\n",
      "Finished substituting S,lb,ub in 16.918229 seconds\n",
      "Finished makeME_LP in 2.796627 seconds\n",
      "Getting MINOS parameters from ME_NLP...\n",
      "9 1.0390625 1.0390625 1.04296875 1.04296875 1\n",
      "Finished substituting S,lb,ub in 16.718775 seconds\n",
      "Finished makeME_LP in 2.763936 seconds\n",
      "Getting MINOS parameters from ME_NLP...\n",
      "10 1.041015625 1.041015625 1.04296875 1.041015625 optimal\n",
      "Finished substituting S,lb,ub in 16.847084 seconds\n",
      "Finished makeME_LP in 2.772468 seconds\n",
      "Getting MINOS parameters from ME_NLP...\n",
      "11 1.041015625 1.041015625 1.0419921875 1.0419921875 1\n",
      "Finished substituting S,lb,ub in 16.701434 seconds\n",
      "Finished makeME_LP in 2.776775 seconds\n",
      "Getting MINOS parameters from ME_NLP...\n",
      "12 1.04150390625 1.04150390625 1.0419921875 1.04150390625 optimal\n",
      "Finished substituting S,lb,ub in 16.807367 seconds\n",
      "Finished makeME_LP in 2.776462 seconds\n",
      "Getting MINOS parameters from ME_NLP...\n",
      "13 1.04150390625 1.04150390625 1.041748046875 1.041748046875 1\n",
      "Finished substituting S,lb,ub in 16.659947 seconds\n",
      "Finished makeME_LP in 2.759186 seconds\n",
      "Getting MINOS parameters from ME_NLP...\n",
      "14 1.04150390625 1.04150390625 1.0416259765625 1.0416259765625 1\n",
      "Finished substituting S,lb,ub in 16.700445 seconds\n",
      "Finished makeME_LP in 2.764973 seconds\n",
      "Getting MINOS parameters from ME_NLP...\n",
      "15 1.04156494140625 1.04156494140625 1.0416259765625 1.04156494140625 optimal\n",
      "Bisection done in 736.323 seconds\n",
      "CPU times: user 12min 13s, sys: 4.23 s, total: 12min 17s\n",
      "Wall time: 12min 16s\n"
     ]
    }
   ],
   "source": [
    "%%time\n",
    "saved_basis = np.load('basis.npy')\n",
    "MU_PREC = 1e-04\n",
    "sol, hs, xopt, cache  = solver.bisectmu(precision=MU_PREC, basis = saved_basis)    "
   ]
  },
  {
   "cell_type": "markdown",
   "id": "00cab5de",
   "metadata": {},
   "source": [
    "### Results and save as sol.pickle"
   ]
  },
  {
   "cell_type": "code",
   "execution_count": 14,
   "id": "732f8bc2",
   "metadata": {},
   "outputs": [
    {
     "name": "stdout",
     "output_type": "stream",
     "text": [
      "optimal\n",
      "1.04156494140625\n"
     ]
    }
   ],
   "source": [
    "# solution status\n",
    "print(me.solution.status)\n",
    "# growth rate\n",
    "print(me.reactions.biomass_dilution.x)\n",
    "# to save solution to pickle\n",
    "# write solution file \n",
    "filename = 'StressME_heatevolved'+'_T_'+str(temperature)+'_pH_'+str(pH)+'_ROS_'+str(ROS)+'X'\n",
    "with open(filename+'_sol.pickle','wb') as f:\n",
    "    pickle.dump(me.solution,f)"
   ]
  },
  {
   "cell_type": "code",
   "execution_count": null,
   "id": "112ff6dd",
   "metadata": {},
   "outputs": [],
   "source": []
  }
 ],
 "metadata": {
  "kernelspec": {
   "display_name": "Python 3",
   "language": "python",
   "name": "python3"
  },
  "language_info": {
   "codemirror_mode": {
    "name": "ipython",
    "version": 3
   },
   "file_extension": ".py",
   "mimetype": "text/x-python",
   "name": "python",
   "nbconvert_exporter": "python",
   "pygments_lexer": "ipython3",
   "version": "3.8.8"
  }
 },
 "nbformat": 4,
 "nbformat_minor": 5
}
